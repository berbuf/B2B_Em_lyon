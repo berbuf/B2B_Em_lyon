{
 "cells": [
  {
   "cell_type": "markdown",
   "metadata": {},
   "source": [
    "Connect to database"
   ]
  },
  {
   "cell_type": "code",
   "execution_count": 1,
   "metadata": {},
   "outputs": [
    {
     "name": "stdout",
     "output_type": "stream",
     "text": [
      "Number of tweets: 10567\n"
     ]
    }
   ],
   "source": [
    "import mysql.connector\n",
    "\n",
    "# connect to remote db\n",
    "cnx = mysql.connector.connect(user=\"emlyon1\",\n",
    "                              password=\"student1\",\n",
    "                              host=\"analyst-toolbelt.cn119w37trlg.eu-west-1.rds.amazonaws.com\",\n",
    "                              database=\"B2B\")\n",
    "cursor = cnx.cursor()\n",
    "\n",
    "# execute mysql query, retrieve all tweets concerning alstom \n",
    "query = (\"SELECT * FROM tweet WHERE searchterm = '@Alstom'\")\n",
    "cursor.execute(query)\n",
    "\n",
    "# load result in python list\n",
    "tweets = list(cursor)\n",
    "print(\"Number of tweets:\", len(tweets))"
   ]
  },
  {
   "cell_type": "markdown",
   "metadata": {},
   "source": [
    "get a frequency of words"
   ]
  },
  {
   "cell_type": "code",
   "execution_count": 2,
   "metadata": {},
   "outputs": [
    {
     "name": "stdout",
     "output_type": "stream",
     "text": [
      "Number of words: 176947\n",
      "10 most common common words and their frequencies:\n"
     ]
    },
    {
     "data": {
      "text/plain": [
       "[('RT', 7026),\n",
       " ('@Alstom', 5518),\n",
       " ('@Alstom:', 3096),\n",
       " ('the', 2866),\n",
       " ('in', 1995),\n",
       " ('to', 1932),\n",
       " ('of', 1916),\n",
       " ('de', 1841),\n",
       " ('a', 1701),\n",
       " ('for', 1452)]"
      ]
     },
     "execution_count": 2,
     "metadata": {},
     "output_type": "execute_result"
    }
   ],
   "source": [
    "import collections\n",
    "\n",
    "# keep only text row\n",
    "texts = list(map(lambda x: x[2], tweets))\n",
    "\n",
    "# get a list of words\n",
    "words = \" \".join(texts).split()\n",
    "print (\"Number of words:\", len(words))\n",
    "\n",
    "# get a dictionary worted by frequency\n",
    "dic = collections.Counter(words).most_common()\n",
    "print (\"10 most common common words and their frequencies:\")\n",
    "dic[:10]"
   ]
  },
  {
   "cell_type": "markdown",
   "metadata": {},
   "source": [
    "create a workcloud using wordcloud lib"
   ]
  },
  {
   "cell_type": "code",
   "execution_count": 3,
   "metadata": {},
   "outputs": [
    {
     "data": {
      "text/plain": [
       "<matplotlib.figure.Figure at 0x7fc30d5ab198>"
      ]
     },
     "metadata": {},
     "output_type": "display_data"
    },
    {
     "data": {
      "text/plain": [
       "<matplotlib.figure.Figure at 0x7fc30cc15710>"
      ]
     },
     "metadata": {},
     "output_type": "display_data"
    }
   ],
   "source": [
    "from wordcloud import WordCloud\n",
    "import matplotlib.pyplot as plt\n",
    "\n",
    "# get one sgnle text\n",
    "text = \" \".join(texts)\n",
    "\n",
    "# create a workcloud \n",
    "wordcloud = WordCloud().generate(text)\n",
    "\n",
    "\n",
    "# matplotlib image\n",
    "plt.imshow(wordcloud, interpolation='bilinear')\n",
    "plt.axis(\"off\")\n",
    "wordcloud = WordCloud(max_font_size=40).generate(text)\n",
    "plt.figure()\n",
    "plt.imshow(wordcloud, interpolation=\"bilinear\")\n",
    "plt.axis(\"off\")\n",
    "plt.show()"
   ]
  },
  {
   "cell_type": "code",
   "execution_count": 4,
   "metadata": {},
   "outputs": [],
   "source": [
    "# pillow imgae\n",
    "image = wordcloud.to_image()\n",
    "image.show()\n"
   ]
  }
 ],
 "metadata": {
  "kernelspec": {
   "display_name": "Python 3",
   "language": "python",
   "name": "python3"
  },
  "language_info": {
   "codemirror_mode": {
    "name": "ipython",
    "version": 3
   },
   "file_extension": ".py",
   "mimetype": "text/x-python",
   "name": "python",
   "nbconvert_exporter": "python",
   "pygments_lexer": "ipython3",
   "version": "3.5.2"
  }
 },
 "nbformat": 4,
 "nbformat_minor": 2
}
