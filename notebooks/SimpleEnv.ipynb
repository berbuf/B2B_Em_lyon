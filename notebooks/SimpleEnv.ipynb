{
 "cells": [
  {
   "cell_type": "markdown",
   "metadata": {},
   "source": [
    "# Simple environment to work with tweets"
   ]
  },
  {
   "cell_type": "code",
   "execution_count": 1,
   "metadata": {},
   "outputs": [],
   "source": [
    "import Preprocessing\n",
    "from Utils import get_tw, get_data, get_tw_by_wd\n",
    "import json\n",
    "import numpy as np"
   ]
  },
  {
   "cell_type": "code",
   "execution_count": 2,
   "metadata": {},
   "outputs": [],
   "source": [
    "companies = np.array(Preprocessing.execute(\"SELECT DISTINCT searchterm from tweet;\"))"
   ]
  },
  {
   "cell_type": "code",
   "execution_count": 3,
   "metadata": {},
   "outputs": [
    {
     "name": "stdout",
     "output_type": "stream",
     "text": [
      "CPU times: user 40.3 s, sys: 1.35 s, total: 41.6 s\n",
      "Wall time: 2min 21s\n",
      "CPU times: user 41.7 s, sys: 1.34 s, total: 43.1 s\n",
      "Wall time: 1min 53s\n",
      "CPU times: user 14.2 s, sys: 428 ms, total: 14.6 s\n",
      "Wall time: 28.3 s\n",
      "CPU times: user 10.5 s, sys: 236 ms, total: 10.8 s\n",
      "Wall time: 21.5 s\n",
      "CPU times: user 15.1 s, sys: 456 ms, total: 15.5 s\n",
      "Wall time: 33 s\n",
      "CPU times: user 15 s, sys: 360 ms, total: 15.4 s\n",
      "Wall time: 31.1 s\n",
      "CPU times: user 7.72 s, sys: 136 ms, total: 7.86 s\n",
      "Wall time: 18.7 s\n",
      "CPU times: user 1.2 s, sys: 16 ms, total: 1.21 s\n",
      "Wall time: 3.14 s\n",
      "CPU times: user 21.7 s, sys: 552 ms, total: 22.3 s\n",
      "Wall time: 50.4 s\n",
      "CPU times: user 1.39 s, sys: 16 ms, total: 1.4 s\n",
      "Wall time: 2.12 s\n",
      "CPU times: user 7.98 s, sys: 136 ms, total: 8.11 s\n",
      "Wall time: 12.5 s\n",
      "CPU times: user 1.12 s, sys: 4 ms, total: 1.12 s\n",
      "Wall time: 1.79 s\n",
      "CPU times: user 1.05 s, sys: 16 ms, total: 1.06 s\n",
      "Wall time: 1.57 s\n",
      "CPU times: user 1.31 s, sys: 24 ms, total: 1.34 s\n",
      "Wall time: 2.54 s\n",
      "CPU times: user 1.99 s, sys: 56 ms, total: 2.04 s\n",
      "Wall time: 4.39 s\n",
      "CPU times: user 2.44 s, sys: 44 ms, total: 2.48 s\n",
      "Wall time: 4.61 s\n",
      "CPU times: user 1.78 s, sys: 8 ms, total: 1.79 s\n",
      "Wall time: 2.65 s\n",
      "CPU times: user 36 ms, sys: 0 ns, total: 36 ms\n",
      "Wall time: 987 ms\n",
      "CPU times: user 72 ms, sys: 0 ns, total: 72 ms\n",
      "Wall time: 1 s\n",
      "CPU times: user 44 ms, sys: 0 ns, total: 44 ms\n",
      "Wall time: 993 ms\n",
      "CPU times: user 4 ms, sys: 0 ns, total: 4 ms\n",
      "Wall time: 1.29 s\n",
      "CPU times: user 4 ms, sys: 0 ns, total: 4 ms\n",
      "Wall time: 1.23 s\n"
     ]
    }
   ],
   "source": [
    "data = []\n",
    "for c in companies:\n",
    "    %time data.append(Preprocessing.fast_preprocessing(c[0][1:], \"en\", True, False))"
   ]
  },
  {
   "cell_type": "code",
   "execution_count": 6,
   "metadata": {},
   "outputs": [
    {
     "data": {
      "text/plain": [
       "253785"
      ]
     },
     "execution_count": 6,
     "metadata": {},
     "output_type": "execute_result"
    }
   ],
   "source": [
    "len(data[0][2])"
   ]
  },
  {
   "cell_type": "code",
   "execution_count": 7,
   "metadata": {},
   "outputs": [],
   "source": [
    "import json\n",
    "\n",
    "path = \"../data/rt_tweets.json\"\n",
    "with open(path, 'w') as fd:\n",
    "    json.dump(json.dumps(data), fd)"
   ]
  },
  {
   "cell_type": "code",
   "execution_count": null,
   "metadata": {
    "scrolled": false
   },
   "outputs": [],
   "source": [
    "import collections\n",
    "\n",
    "companies = np.array(Preprocessing.execute(\"SELECT DISTINCT searchterm from tweet;\"))\n",
    "\n",
    "words = []\n",
    "for c in companies:\n",
    "\n",
    "    data = get_data(c[0][1:])\n",
    "    words += [ w.strip() for tweet in data for w in tweet ]\n",
    "\n",
    "frequ = collections.Counter(words).most_common()"
   ]
  },
  {
   "cell_type": "code",
   "execution_count": null,
   "metadata": {
    "scrolled": false
   },
   "outputs": [],
   "source": [
    "import csv\n",
    "\n",
    "rows = np.array(frequ)\n",
    "\n",
    "with open(\"../results/frequency_top_words.csv\", 'w') as myfile:\n",
    "    wr = csv.writer(myfile, quoting=csv.QUOTE_ALL)\n",
    "    for row in rows:\n",
    "        wr.writerow(row)"
   ]
  },
  {
   "cell_type": "code",
   "execution_count": null,
   "metadata": {},
   "outputs": [],
   "source": [
    "e = get_data(\"Alstom\")\n",
    "t = e[2]\n",
    "\n",
    "get_tw(\"Alstom\", t)"
   ]
  },
  {
   "cell_type": "code",
   "execution_count": null,
   "metadata": {},
   "outputs": [],
   "source": [
    "get_tw_by_wd(\"Salesforce\", \"cloud\")"
   ]
  },
  {
   "cell_type": "markdown",
   "metadata": {},
   "source": [
    "pour une entreprise, avoir toutes les adresses"
   ]
  }
 ],
 "metadata": {
  "kernelspec": {
   "display_name": "Python 3",
   "language": "python",
   "name": "python3"
  },
  "language_info": {
   "codemirror_mode": {
    "name": "ipython",
    "version": 3
   },
   "file_extension": ".py",
   "mimetype": "text/x-python",
   "name": "python",
   "nbconvert_exporter": "python",
   "pygments_lexer": "ipython3",
   "version": "3.5.2"
  }
 },
 "nbformat": 4,
 "nbformat_minor": 2
}
