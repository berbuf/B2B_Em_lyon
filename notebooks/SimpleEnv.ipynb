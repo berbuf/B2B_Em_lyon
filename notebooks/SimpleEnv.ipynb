{
 "cells": [
  {
   "cell_type": "markdown",
   "metadata": {},
   "source": [
    "# Simple environment to work with tweets"
   ]
  },
  {
   "cell_type": "code",
   "execution_count": 1,
   "metadata": {},
   "outputs": [],
   "source": [
    "import Preprocessing\n",
    "from Utils import get_tw, get_data, get_tw_by_wd\n",
    "import json\n",
    "import numpy as np"
   ]
  },
  {
   "cell_type": "code",
   "execution_count": null,
   "metadata": {
    "scrolled": false
   },
   "outputs": [],
   "source": [
    "import collections\n",
    "\n",
    "companies = np.array(Preprocessing.execute(\"SELECT DISTINCT searchterm from tweet;\"))\n",
    "\n",
    "words = []\n",
    "for c in companies:\n",
    "    \n",
    "    data = get_data(c[0][1:])\n",
    "    words += [ w.strip() for tweet in data for w in tweet ]\n",
    "\n",
    "frequ = collections.Counter(words).most_common()"
   ]
  },
  {
   "cell_type": "code",
   "execution_count": null,
   "metadata": {
    "scrolled": false
   },
   "outputs": [],
   "source": [
    "import csv\n",
    "\n",
    "rows = np.array(frequ)\n",
    "\n",
    "with open(\"../results/frequency_top_words.csv\", 'w') as myfile:\n",
    "    wr = csv.writer(myfile, quoting=csv.QUOTE_ALL)\n",
    "    for row in rows:\n",
    "        wr.writerow(row)"
   ]
  },
  {
   "cell_type": "code",
   "execution_count": 5,
   "metadata": {},
   "outputs": [
    {
     "data": {
      "text/plain": [
       "['@FerdinandPiech @UTC NYSE_UTX #United , #Chairman_BOD #UnitedTechnologiesInc @ChubbInsurance #NMP_22 @Alstom @SteveChubb OTC_NMPS #Matritech']"
      ]
     },
     "execution_count": 5,
     "metadata": {},
     "output_type": "execute_result"
    }
   ],
   "source": [
    "e = get_data(\"Alstom\")\n",
    "t = e[2]\n",
    "\n",
    "get_tw(\"Alstom\", t)"
   ]
  },
  {
   "cell_type": "code",
   "execution_count": null,
   "metadata": {},
   "outputs": [],
   "source": [
    "get_tw_by_wd(\"Salesforce\", \"cloud\")"
   ]
  },
  {
   "cell_type": "markdown",
   "metadata": {},
   "source": [
    "pour une entreprise, avoir toutes les adresses"
   ]
  }
 ],
 "metadata": {
  "kernelspec": {
   "display_name": "Python 3",
   "language": "python",
   "name": "python3"
  },
  "language_info": {
   "codemirror_mode": {
    "name": "ipython",
    "version": 3
   },
   "file_extension": ".py",
   "mimetype": "text/x-python",
   "name": "python",
   "nbconvert_exporter": "python",
   "pygments_lexer": "ipython3",
   "version": "3.5.2"
  }
 },
 "nbformat": 4,
 "nbformat_minor": 2
}
